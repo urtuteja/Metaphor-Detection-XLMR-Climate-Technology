{
 "cells": [
  {
   "cell_type": "markdown",
   "id": "36901a8b",
   "metadata": {},
   "source": [
    "## Importing libraries"
   ]
  },
  {
   "cell_type": "code",
   "execution_count": 1,
   "id": "ff72dfff",
   "metadata": {},
   "outputs": [],
   "source": [
    "import pandas as pd\n",
    "from collections import Counter"
   ]
  },
  {
   "cell_type": "markdown",
   "id": "e8b05a15",
   "metadata": {},
   "source": [
    "## Train data\n",
    "\n",
    "*VUA_train.csv*"
   ]
  },
  {
   "cell_type": "code",
   "execution_count": 2,
   "id": "0572d163",
   "metadata": {},
   "outputs": [],
   "source": [
    "def metaphor_stats(df):\n",
    "    total_tokens = len(df)\n",
    "    total_sentences = df[\"sentence\"].nunique()\n",
    "    label_counts = df[\"label\"].value_counts()\n",
    "    vocab_size = df[\"word\"].nunique()\n",
    "    avg_sentence_length = df.groupby(\"sentence\").size().mean()\n",
    "    \n",
    "    metaphor_counts = df[df[\"label\"] == 1].groupby(\"sentence\").size()\n",
    "    avg_metaphors_per_sentence = metaphor_counts.mean() if not metaphor_counts.empty else 0.0\n",
    "    \n",
    "    top_metaphors = df[df[\"label\"] == 1][\"word\"].value_counts().head(10)\n",
    "    \n",
    "    print(f\"Total tokens: {total_tokens}\\n\")\n",
    "    print(f\"Total sentences: {total_sentences}\\n\")\n",
    "    print(f\"Label distribution:\\n{label_counts}\\n\")\n",
    "    print(f\"Vocabulary size: {vocab_size}\\n\")\n",
    "    print(f\"Average sentence length: {avg_sentence_length:.2f} tokens\\n\")\n",
    "    print(f\"Average metaphors per sentence: {avg_metaphors_per_sentence:.2f}\\n\")\n",
    "    print(\"Top metaphorical words:\")\n",
    "    print(top_metaphors)"
   ]
  },
  {
   "cell_type": "code",
   "execution_count": 3,
   "id": "957d7869",
   "metadata": {},
   "outputs": [
    {
     "name": "stdout",
     "output_type": "stream",
     "text": [
      "Total tokens: 181488\n",
      "\n",
      "Total sentences: 10912\n",
      "\n",
      "Label distribution:\n",
      "label\n",
      "0    162311\n",
      "1     19177\n",
      "Name: count, dtype: int64\n",
      "\n",
      "Vocabulary size: 17290\n",
      "\n",
      "Average sentence length: 16.63 tokens\n",
      "\n",
      "Average metaphors per sentence: 3.18\n",
      "\n",
      "Top metaphorical words:\n",
      "word\n",
      "in       1315\n",
      "to        774\n",
      "on        656\n",
      "with      607\n",
      "that      510\n",
      "this      393\n",
      "from      305\n",
      "at        300\n",
      "about     282\n",
      "have      178\n",
      "Name: count, dtype: int64\n"
     ]
    }
   ],
   "source": [
    "original_train_data = pd.read_csv(\"/Users/urtejakubauskaite/Desktop/Metaphors/Final project/Data/Train Data/VUA_train.csv\")\n",
    "metaphor_stats(original_train_data)"
   ]
  },
  {
   "cell_type": "markdown",
   "id": "4fe74475",
   "metadata": {},
   "source": [
    "## Original test data\n",
    "\n",
    "*VUA_test_all.csv*"
   ]
  },
  {
   "cell_type": "code",
   "execution_count": 4,
   "id": "f3f718c9",
   "metadata": {},
   "outputs": [
    {
     "name": "stdout",
     "output_type": "stream",
     "text": [
      "Total tokens: 58359\n",
      "\n",
      "Total sentences: 3814\n",
      "\n",
      "Label distribution:\n",
      "label\n",
      "0    51540\n",
      "1     6819\n",
      "Name: count, dtype: int64\n",
      "\n",
      "Vocabulary size: 7763\n",
      "\n",
      "Average sentence length: 15.30 tokens\n",
      "\n",
      "Average metaphors per sentence: 3.18\n",
      "\n",
      "Top metaphorical words:\n",
      "word\n",
      "in       410\n",
      "to       266\n",
      "that     226\n",
      "on       210\n",
      "with     203\n",
      "this     144\n",
      "at       127\n",
      "about    102\n",
      "from     101\n",
      "have      76\n",
      "Name: count, dtype: int64\n"
     ]
    }
   ],
   "source": [
    "original_test_data = pd.read_csv(\"/Users/urtejakubauskaite/Desktop/Metaphors/Final project/Data/Test Data/VUA_test_all.csv\")\n",
    "metaphor_stats(original_test_data)"
   ]
  },
  {
   "cell_type": "markdown",
   "id": "e781c716",
   "metadata": {},
   "source": [
    "## Our test data"
   ]
  },
  {
   "cell_type": "code",
   "execution_count": 5,
   "id": "3be66a7f",
   "metadata": {},
   "outputs": [],
   "source": [
    "def test_metaphor_and_function_word_stats(df):\n",
    "    function_word_pos = {\"DET\", \"ADP\", \"PRON\", \"CCONJ\", \"SCONJ\", \"AUX\", \"PART\", \"INTJ\", \"SYM\"}\n",
    "\n",
    "    total_tokens = len(df)\n",
    "    total_sentences = df[\"sent_id\"].nunique()\n",
    "    label_counts = df[\"FINAL\"].value_counts()\n",
    "    vocab_size = df[\"token_text\"].str.lower().nunique()\n",
    "    \n",
    "    sentence_lengths = df.groupby(\"sent_id\").size()\n",
    "    avg_sentence_length = sentence_lengths.mean()\n",
    "    \n",
    "    metaphor_counts_per_sentence = df[df[\"FINAL\"] == 1].groupby(\"sent_id\").size()\n",
    "    metaphor_counts_per_sentence = metaphor_counts_per_sentence.reindex(df[\"sent_id\"].unique(), fill_value=0)\n",
    "    avg_metaphors_per_sentence = metaphor_counts_per_sentence.mean()\n",
    "    \n",
    "    top_metaphors = df[df[\"FINAL\"] == 1][\"token_text\"].value_counts().head(10)\n",
    "    \n",
    "    function_word_tokens = df[df[\"pos\"].isin(function_word_pos)]\n",
    "    num_function_words = len(function_word_tokens)\n",
    "    percent_function_words = num_function_words / total_tokens * 100\n",
    "    \n",
    "    function_words_per_sentence = function_word_tokens.groupby(\"sent_id\").size()\n",
    "    avg_function_words_per_sentence = function_words_per_sentence.mean()\n",
    "    \n",
    "    print(f\"Total tokens: {total_tokens}\\n\")\n",
    "    print(f\"Total sentences: {total_sentences}\\n\")\n",
    "    print(f\"Label distribution:\\n{label_counts}\\n\")\n",
    "    print(f\"Vocabulary size: {vocab_size}\\n\")\n",
    "    print(f\"Average sentence length: {avg_sentence_length:.2f} tokens\\n\")\n",
    "    print(f\"Average metaphors per sentence: {avg_metaphors_per_sentence:.2f}\\n\")\n",
    "    print(\"Top metaphorical words:\")\n",
    "    for word, count in top_metaphors.items():\n",
    "        print(f\"{word}: {count}\")\n",
    "    print(f\"\\nNumber of function words: {num_function_words}\")\n",
    "    print(f\"Percentage of function words: {percent_function_words:.2f}%\")\n",
    "    print(f\"Average function words per sentence: {avg_function_words_per_sentence:.2f}\")"
   ]
  },
  {
   "cell_type": "code",
   "execution_count": 6,
   "id": "d5303e04",
   "metadata": {},
   "outputs": [
    {
     "name": "stdout",
     "output_type": "stream",
     "text": [
      "Total tokens: 487\n",
      "\n",
      "Total sentences: 19\n",
      "\n",
      "Label distribution:\n",
      "FINAL\n",
      "0    439\n",
      "1     48\n",
      "Name: count, dtype: int64\n",
      "\n",
      "Vocabulary size: 236\n",
      "\n",
      "Average sentence length: 25.63 tokens\n",
      "\n",
      "Average metaphors per sentence: 2.53\n",
      "\n",
      "Top metaphorical words:\n",
      "team: 3\n",
      "compounds: 2\n",
      "ways: 2\n",
      "undone: 2\n",
      "saying: 2\n",
      "release: 1\n",
      "removal: 1\n",
      "adding: 1\n",
      "used: 1\n",
      "futures: 1\n",
      "\n",
      "Number of function words: 179\n",
      "Percentage of function words: 36.76%\n",
      "Average function words per sentence: 9.42\n"
     ]
    }
   ],
   "source": [
    "first = pd.read_excel(\"/Users/urtejakubauskaite/Desktop/Metaphors/Final project/Data/Test Data/4acb1_annotation_checked.xlsx\")\n",
    "test_metaphor_and_function_word_stats(first)"
   ]
  },
  {
   "cell_type": "code",
   "execution_count": 7,
   "id": "dfc69f45",
   "metadata": {},
   "outputs": [
    {
     "name": "stdout",
     "output_type": "stream",
     "text": [
      "Total tokens: 219\n",
      "\n",
      "Total sentences: 10\n",
      "\n",
      "Label distribution:\n",
      "FINAL\n",
      "0    185\n",
      "1     34\n",
      "Name: count, dtype: int64\n",
      "\n",
      "Vocabulary size: 145\n",
      "\n",
      "Average sentence length: 21.90 tokens\n",
      "\n",
      "Average metaphors per sentence: 3.40\n",
      "\n",
      "Top metaphorical words:\n",
      "joining: 1\n",
      "said: 1\n",
      "engine: 1\n",
      "strong: 1\n",
      "growth: 1\n",
      "dropped: 1\n",
      "out: 1\n",
      "processes: 1\n",
      "considering: 1\n",
      "board: 1\n",
      "\n",
      "Number of function words: 89\n",
      "Percentage of function words: 40.64%\n",
      "Average function words per sentence: 8.90\n"
     ]
    }
   ],
   "source": [
    "second = pd.read_excel(\"/Users/urtejakubauskaite/Desktop/Metaphors/Final project/Data/Test Data/7976c_annotation_checked.xlsx\")\n",
    "test_metaphor_and_function_word_stats(second)"
   ]
  },
  {
   "cell_type": "code",
   "execution_count": 8,
   "id": "13b3a601",
   "metadata": {},
   "outputs": [
    {
     "name": "stdout",
     "output_type": "stream",
     "text": [
      "Total tokens: 304\n",
      "\n",
      "Total sentences: 16\n",
      "\n",
      "Label distribution:\n",
      "FINAL\n",
      "0    261\n",
      "1     43\n",
      "Name: count, dtype: int64\n",
      "\n",
      "Vocabulary size: 175\n",
      "\n",
      "Average sentence length: 19.00 tokens\n",
      "\n",
      "Average metaphors per sentence: 2.69\n",
      "\n",
      "Top metaphorical words:\n",
      "green: 4\n",
      "can: 2\n",
      "for: 2\n",
      "social: 2\n",
      "going: 2\n",
      "incentives: 1\n",
      "provides: 1\n",
      "puts: 1\n",
      "in: 1\n",
      "adoption: 1\n",
      "\n",
      "Number of function words: 118\n",
      "Percentage of function words: 38.82%\n",
      "Average function words per sentence: 7.38\n"
     ]
    }
   ],
   "source": [
    "third = pd.read_excel(\"/Users/urtejakubauskaite/Desktop/Metaphors/Final project/Data/Test Data/58717_annotation_checked.xlsx\")\n",
    "test_metaphor_and_function_word_stats(third)"
   ]
  },
  {
   "cell_type": "code",
   "execution_count": 9,
   "id": "36d11799",
   "metadata": {},
   "outputs": [
    {
     "name": "stdout",
     "output_type": "stream",
     "text": [
      "Total tokens: 220\n",
      "\n",
      "Total sentences: 13\n",
      "\n",
      "Label distribution:\n",
      "FINAL\n",
      "0    186\n",
      "1     34\n",
      "Name: count, dtype: int64\n",
      "\n",
      "Vocabulary size: 133\n",
      "\n",
      "Average sentence length: 16.92 tokens\n",
      "\n",
      "Average metaphors per sentence: 2.62\n",
      "\n",
      "Top metaphorical words:\n",
      "talent: 2\n",
      "area: 2\n",
      "bright: 1\n",
      "lining: 1\n",
      "look: 1\n",
      "puts: 1\n",
      "constraint: 1\n",
      "Access: 1\n",
      "hub: 1\n",
      "emerging: 1\n",
      "\n",
      "Number of function words: 75\n",
      "Percentage of function words: 34.09%\n",
      "Average function words per sentence: 5.77\n"
     ]
    }
   ],
   "source": [
    "fourth = pd.read_excel(\"/Users/urtejakubauskaite/Desktop/Metaphors/Final project/Data/Test Data/fe9d0_annotation_checked.xlsx\")\n",
    "test_metaphor_and_function_word_stats(fourth)"
   ]
  },
  {
   "cell_type": "code",
   "execution_count": 10,
   "id": "4861185a",
   "metadata": {},
   "outputs": [
    {
     "name": "stdout",
     "output_type": "stream",
     "text": [
      "Total tokens: 1230\n",
      "Total sentences: 58\n",
      "Total metaphors: 159\n"
     ]
    }
   ],
   "source": [
    "total_tokens = 487 + 219 + 304 + 220\n",
    "total_sentences = 19 + 10 + 16 + 13\n",
    "total_metaphors = 48 + 34 + 43 + 34\n",
    "\n",
    "print(f\"Total tokens: {total_tokens}\")\n",
    "print(f\"Total sentences: {total_sentences}\")\n",
    "print(f\"Total metaphors: {total_metaphors}\")"
   ]
  },
  {
   "cell_type": "markdown",
   "id": "6806fe86",
   "metadata": {},
   "source": [
    "## Continued pretraining data\n",
    "\n",
    "*updated_articles_flattened_records_20241121.xlsx*"
   ]
  },
  {
   "cell_type": "code",
   "execution_count": 11,
   "id": "fca5634b",
   "metadata": {},
   "outputs": [
    {
     "name": "stdout",
     "output_type": "stream",
     "text": [
      "Number of articles: 1462\n",
      "Average article length (tokens): 1386.45\n",
      "Total tokens (sum of all article lengths): 2026996\n"
     ]
    }
   ],
   "source": [
    "pretraining_data = pd.read_excel(\"/Users/urtejakubauskaite/Desktop/Metaphors/Final project/Data/Continued Pretraining Data/updated_articles_flattened_records_20241121.xlsx\")\n",
    "\n",
    "num_articles = pretraining_data[\"article_id\"].nunique()\n",
    "avg_article_length = pretraining_data[\"length\"].mean()\n",
    "total_tokens = pretraining_data[\"length\"].sum()\n",
    "    \n",
    "print(f\"Number of articles: {num_articles}\")\n",
    "print(f\"Average article length (tokens): {avg_article_length:.2f}\")\n",
    "print(f\"Total tokens (sum of all article lengths): {total_tokens}\")"
   ]
  },
  {
   "cell_type": "code",
   "execution_count": null,
   "id": "f361c998",
   "metadata": {},
   "outputs": [],
   "source": []
  }
 ],
 "metadata": {
  "kernelspec": {
   "display_name": "LaDKernel",
   "language": "python",
   "name": "ladkernel"
  },
  "language_info": {
   "codemirror_mode": {
    "name": "ipython",
    "version": 3
   },
   "file_extension": ".py",
   "mimetype": "text/x-python",
   "name": "python",
   "nbconvert_exporter": "python",
   "pygments_lexer": "ipython3",
   "version": "3.9.20"
  }
 },
 "nbformat": 4,
 "nbformat_minor": 5
}
