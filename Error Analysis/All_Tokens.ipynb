{
 "cells": [
  {
   "cell_type": "markdown",
   "id": "cbcfb2db",
   "metadata": {},
   "source": [
    "The code below takes all metaphorical tokens from four climate-technology-related articles as input and outputs the tokens that appear more than once, along with their frequencies."
   ]
  },
  {
   "cell_type": "code",
   "execution_count": 1,
   "id": "0552ebe5",
   "metadata": {},
   "outputs": [
    {
     "name": "stdout",
     "output_type": "stream",
     "text": [
      "team: 3\n",
      "undone: 2\n",
      "ways: 2\n",
      "saying: 2\n",
      "removal: 3\n",
      "compounds: 2\n",
      "look: 3\n",
      "growth: 2\n",
      "can: 2\n",
      "going: 2\n",
      "green: 4\n",
      "stage: 2\n",
      "for: 2\n",
      "social: 2\n",
      "puts: 2\n",
      "area: 2\n",
      "talent: 2\n"
     ]
    }
   ],
   "source": [
    "from collections import Counter\n",
    "\n",
    "tokens = [\n",
    "    \"team\", \"Plans\", \"cover\", \"taken\", \"root\", \"backed\", \"restore\", \"complicated\", \"team\",\n",
    "    \"found\", \"undone\", \"ways\", \"saying\", \"saying\", \"part\", \"play\", \"need\", \"think\", \"whole\", \"system\",\n",
    "    \"led\", \"reported\", \"have\", \"to\", \"decarbonise\", \"deeply\", \"bank\", \"team\", \"adding\", \"used\",\n",
    "    \"futures\", \"projected\", \"emits\", \"offset\", \"removal\", \"undone\", \"raise\", \"ways\", \"changing\",\n",
    "    \"measure\", \"seen\", \"compounds\", \"release\", \"responsible\", \"compounds\", \"destroyed\", \"powerful\",\n",
    "    \"benefits\", \"joining\", \"board\", \"giant\", \"founded\", \"leaving\", \"concentrated\", \"action\", \"finance\",\n",
    "    \"launched\", \"removal\", \"breaking\", \"down\", \"barriers\", \"accelerating\", \"look\", \"forward\",\n",
    "    \"supporting\", \"over\", \"builds\", \"engine\", \"strong\", \"growth\", \"dropped\", \"out\", \"processes\",\n",
    "    \"said\", \"considering\", \"value\", \"work\", \"grow\", \"see\", \"settlement\", \"align\", \"added\", \"can\", \"-\", \n",
    "    \"do\", \"answer\", \"only\", \"reward\", \"initiative\", \"taking\", \"set\", \"going\", \"make\", \"developing\",\n",
    "    \"green\", \"access\", \"direct\", \"capture\", \"good\", \"stage\", \"green\", \"looking\", \"for\", \"going\",\n",
    "    \"look\", \"green\", \"say\", \"can\", \"great\", \"advances\", \"accounts\", \"for\", \"social\", \"green\",\n",
    "    \"push\", \"factoring\", \"in\", \"social\", \"puts\", \"provides\", \"incentives\", \"adoption\", \"Take\",\n",
    "    \"sequestration\", \"refined\", \"bright\", \"spot\", \"scene\", \"broad\", \"covering\", \"intelligence\",\n",
    "    \"removal\", \"growing\", \"number\", \"area\", \"reached\", \"expected\", \"impetus\", \"growth\", \"targets\",\n",
    "    \"active\", \"space\", \"lining\", \"up\", \"early\", \"stage\", \"deploy\", \"focus\", \"area\", \"activities\",\n",
    "    \"emerging\", \"hub\", \"Access\", \"constraint\", \"puts\", \"look\", \"talent\", \"scramble\", \"talent\"\n",
    "]\n",
    "\n",
    "counter = Counter(tokens)\n",
    "\n",
    "for word, count in counter.items():\n",
    "    if count > 1:\n",
    "        print(f\"{word}: {count}\")"
   ]
  },
  {
   "cell_type": "code",
   "execution_count": null,
   "id": "94cdf416",
   "metadata": {},
   "outputs": [],
   "source": []
  }
 ],
 "metadata": {
  "kernelspec": {
   "display_name": "Python 3 (ipykernel)",
   "language": "python",
   "name": "python3"
  },
  "language_info": {
   "codemirror_mode": {
    "name": "ipython",
    "version": 3
   },
   "file_extension": ".py",
   "mimetype": "text/x-python",
   "name": "python",
   "nbconvert_exporter": "python",
   "pygments_lexer": "ipython3",
   "version": "3.7.16"
  }
 },
 "nbformat": 4,
 "nbformat_minor": 5
}
